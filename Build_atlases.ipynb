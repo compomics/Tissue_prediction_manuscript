{
 "cells": [
  {
   "cell_type": "code",
   "execution_count": 1,
   "metadata": {},
   "outputs": [],
   "source": [
    "import pandas as pd\n",
    "from NSAF import NSAF\n",
    "from NSAF import Atlas\n",
    "from NSAF import Predictor\n",
    "import glob"
   ]
  },
  {
   "cell_type": "code",
   "execution_count": null,
   "metadata": {},
   "outputs": [],
   "source": [
    "#Use the NSAF class to calculate the Normalized Spectral Abundance values of the samples\n",
    "#provide MySQL DB, tissue/cell type, filtering level and disease status\n",
    "path = '/home/compomics/git/github_publish/Atlases/'\n",
    "\n",
    "db = NSAF('expression_atlas', 'cell_type', 0, None)\n",
    "nsaf = db.calculate_NSAF()\n",
    "nsaf.to_csv(f'{path}/nsaf_cells_notfiltered.csv', index=False)\n",
    "\n",
    "db = NSAF('expression_atlas', 'cell_type', 0.9, None)\n",
    "nsaf = db.calculate_NSAF()\n",
    "nsaf.to_csv(f'{path}/nsaf_cells_filtered.csv', index=False)\n",
    "\n",
    "db = NSAF('expression_atlas', 'cell_type', 0, 'Healthy')\n",
    "nsaf = db.calculate_NSAF()\n",
    "nsaf.to_csv(f'{path}/nsaf_cells_notfiltered_healthy.csv', index=False)\n",
    "\n",
    "db = NSAF('expression_atlas', 'cell_type', 0.9, 'Healthy')\n",
    "nsaf = db.calculate_NSAF()\n",
    "nsaf.to_csv(f'{path}/nsaf_cells_filtered_healthy.csv', index=False)\n",
    "\n",
    "db = NSAF('expression_atlas', 'tissue_name', 0, None)\n",
    "nsaf = db.calculate_NSAF()\n",
    "nsaf.to_csv(f'{path}/nsaf_tissue_notfiltered.csv', index=False)\n",
    "\n",
    "db = NSAF('expression_atlas', 'tissue_name', 0.9, None)\n",
    "nsaf = db.calculate_NSAF()\n",
    "nsaf.to_csv(f'{path}/nsaf_tissue_filtered.csv', index=False)\n",
    "\n",
    "db = NSAF('expression_atlas', 'tissue_name', 0, 'Healthy')\n",
    "nsaf = db.calculate_NSAF()\n",
    "nsaf.to_csv(f'{path}/nsaf_tissue_notfiltered_healthy.csv', index=False)\n",
    "\n",
    "db = NSAF('expression_atlas', 'tissue_name', 0.9, 'Healthy')\n",
    "nsaf = db.calculate_NSAF()\n",
    "nsaf.to_csv(f'{path}/nsaf_tissue_filtered_healthy.csv', index=False)\n"
   ]
  },
  {
   "cell_type": "code",
   "execution_count": null,
   "metadata": {},
   "outputs": [],
   "source": [
    "nsafs = ['nsaf_cells_notfiltered_healthy.csv',\n",
    "'nsaf_cells_filtered_healthy.csv',\n",
    "'nsaf_tissue_notfiltered_healthy.csv',\n",
    "'nsaf_tissue_filtered_healthy.csv']"
   ]
  },
  {
   "cell_type": "code",
   "execution_count": null,
   "metadata": {},
   "outputs": [],
   "source": [
    "# Use NSAF dataframe to build the atlas format which can be used for basic analyses\n",
    "nsaf = pd.read_csv('nsaf_tissue_notfiltered_healthy.csv')\n",
    "atlas = Atlas('expression_atlas', 'tissue_name', 'Healthy', nsaf)\n",
    "tissue_predictor_filtered = atlas.create_atlas()\n",
    "tissue_predictor_filtered = tissue_predictor_filtered[tissue_predictor_filtered['fluid']==0]\n",
    "tissue_predictor_filtered = tissue_predictor_filtered[tissue_predictor_filtered['disease_status']=='Healthy']\n"
   ]
  },
  {
   "cell_type": "code",
   "execution_count": null,
   "metadata": {},
   "outputs": [],
   "source": [
    "#Use Predictor class to turn the dataframe into the format used to train the algorithms\n",
    "pred = Predictor('expression_atlas', 'tissue_name', 'Healthy', tissue_predictor_filtered)\n",
    "tissue_predictor_filtered = pred.get_assay_atlas()"
   ]
  }
 ],
 "metadata": {
  "kernelspec": {
   "display_name": "Python 3.6.13 ('tissuespecific')",
   "language": "python",
   "name": "python3"
  },
  "language_info": {
   "codemirror_mode": {
    "name": "ipython",
    "version": 3
   },
   "file_extension": ".py",
   "mimetype": "text/x-python",
   "name": "python",
   "nbconvert_exporter": "python",
   "pygments_lexer": "ipython3",
   "version": "3.6.13"
  },
  "orig_nbformat": 4,
  "vscode": {
   "interpreter": {
    "hash": "59057a64ae204f2fdb51e9e1b433726989fd2ce2c53f4ab90fe5cecdfcc3bed6"
   }
  }
 },
 "nbformat": 4,
 "nbformat_minor": 2
}
