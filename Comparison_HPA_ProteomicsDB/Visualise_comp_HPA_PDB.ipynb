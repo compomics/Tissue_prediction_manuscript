{
 "cells": [
  {
   "cell_type": "code",
   "execution_count": 1,
   "metadata": {},
   "outputs": [],
   "source": [
    "import pandas as pd\n",
    "import seaborn as sns\n",
    "import numpy as np\n",
    "import matplotlib.pyplot as plt"
   ]
  },
  {
   "cell_type": "markdown",
   "metadata": {},
   "source": [
    "# Read atlases"
   ]
  },
  {
   "cell_type": "code",
   "execution_count": 2,
   "metadata": {},
   "outputs": [],
   "source": [
    "#HPA atlases\n",
    "tpm_rnaAtlas = pd.read_csv('tpm_rnaAtlas.csv')\n",
    "ntpm_rnaAtlas = pd.read_csv('ntpm_rnaAtlas.csv')\n",
    "ptpm_rnaAtlas = pd.read_csv('ptpm_rnaAtlas.csv')\n",
    "abAtlas = pd.read_csv('antibody_atlas.csv')\n",
    "#ProteomicsDB\n",
    "db = pd.read_csv('proteomicsdb.csv')\n"
   ]
  },
  {
   "cell_type": "code",
   "execution_count": 3,
   "metadata": {},
   "outputs": [],
   "source": [
    "db = db.rename(columns={'UniProt': 'Uniprot_id'})\n",
    "abAtlas = abAtlas.rename(columns={'uniprot_id': 'Uniprot_id'})"
   ]
  },
  {
   "cell_type": "markdown",
   "metadata": {},
   "source": [
    "## Comparison on organ level"
   ]
  },
  {
   "cell_type": "code",
   "execution_count": 4,
   "metadata": {},
   "outputs": [
    {
     "name": "stdout",
     "output_type": "stream",
     "text": [
      "comparison of abAtlas and ProteomicsDB\n",
      "comparison of tpm_rnaAtlas and ProteomicsDB\n",
      "comparison of ntpm_rnaAtlas and ProteomicsDB\n",
      "comparison of ptpm_rnaAtlas and ProteomicsDB\n"
     ]
    }
   ],
   "source": [
    "comp = pd.DataFrame(columns=['comparison', 'level','kendall (mean)', 'kendall (stdev)' ])\n",
    "\n",
    "\n",
    "hpa_atlases = [abAtlas, tpm_rnaAtlas, ntpm_rnaAtlas, ptpm_rnaAtlas]\n",
    "hpa_names = ['abAtlas', 'tpm_rnaAtlas', 'ntpm_rnaAtlas', 'ptpm_rnaAtlas']\n",
    "hpa_values = ['Level','TPM','nTPM','pTPM']\n",
    "\n",
    "protein_expression_atlases = [db]\n",
    "protein_expression_names = ['ProteomicsDB']\n",
    "i = 0\n",
    "for hpa_atlas, hpa_name, hpa_value in zip(hpa_atlases, hpa_names, hpa_values):\n",
    "    for prot_atlas, prot_name in zip(protein_expression_atlases, protein_expression_names):\n",
    "        row = []\n",
    "\n",
    "        print('comparison of {} and {}'.format(hpa_name, prot_name))\n",
    "        row.append(hpa_name+' - '+prot_name)\n",
    "        df = pd.merge(hpa_atlas, prot_atlas, on=['Uniprot_id', 'Organ_id'], how='inner')\n",
    "        df = df[df['normalised intensity'].notna()]\n",
    "        \n",
    "        #first comparison on organ level\n",
    "        organ = df['Organ_id'].unique()\n",
    "        row.append('Organ')\n",
    "        organsDict = {elem : pd.DataFrame for elem in organ}\n",
    "        for key in organsDict.keys():\n",
    "            organsDict[key] = df[:][df['Organ_id'] == key]\n",
    "\n",
    "        sc_list = [] #determine pearson correlation coefficients for each organ btw the normalised intensity and expression level value\n",
    "        ps_list = []\n",
    "        kendall_list = []\n",
    "\n",
    "        for key in organsDict.keys():\n",
    "            kendall = organsDict[key]['normalised intensity'].corr(organsDict[key][hpa_value], method = 'kendall')\n",
    "            kendall_list.append(kendall)\n",
    "        list_of_corrs = [kendall_list]\n",
    "        names = ['kendall']\n",
    "\n",
    "        for corr, name in zip(list_of_corrs, names):\n",
    "            corr_array = np.asarray(corr)\n",
    "            corr_array = corr_array[np.logical_not(np.isnan(corr_array))]\n",
    "            row.append(corr_array.tolist())\n",
    "            row.append(corr_array.std())\n",
    "                \n",
    "        comp.loc[len(comp)] = row\n"
   ]
  },
  {
   "cell_type": "code",
   "execution_count": 5,
   "metadata": {},
   "outputs": [
    {
     "data": {
      "text/html": [
       "<div>\n",
       "<style scoped>\n",
       "    .dataframe tbody tr th:only-of-type {\n",
       "        vertical-align: middle;\n",
       "    }\n",
       "\n",
       "    .dataframe tbody tr th {\n",
       "        vertical-align: top;\n",
       "    }\n",
       "\n",
       "    .dataframe thead th {\n",
       "        text-align: right;\n",
       "    }\n",
       "</style>\n",
       "<table border=\"1\" class=\"dataframe\">\n",
       "  <thead>\n",
       "    <tr style=\"text-align: right;\">\n",
       "      <th></th>\n",
       "      <th>comparison</th>\n",
       "      <th>level</th>\n",
       "      <th>kendall (mean)</th>\n",
       "      <th>kendall (stdev)</th>\n",
       "    </tr>\n",
       "  </thead>\n",
       "  <tbody>\n",
       "    <tr>\n",
       "      <th>0</th>\n",
       "      <td>abAtlas - ProteomicsDB</td>\n",
       "      <td>Organ</td>\n",
       "      <td>[0.027611700876335743, 0.052086253707029434, 0...</td>\n",
       "      <td>0.057434</td>\n",
       "    </tr>\n",
       "    <tr>\n",
       "      <th>1</th>\n",
       "      <td>tpm_rnaAtlas - ProteomicsDB</td>\n",
       "      <td>Organ</td>\n",
       "      <td>[0.27298385694748606, 0.2500733737844302, 0.31...</td>\n",
       "      <td>0.051094</td>\n",
       "    </tr>\n",
       "    <tr>\n",
       "      <th>2</th>\n",
       "      <td>ntpm_rnaAtlas - ProteomicsDB</td>\n",
       "      <td>Organ</td>\n",
       "      <td>[0.2731757582189392, 0.25103925436320373, 0.31...</td>\n",
       "      <td>0.044643</td>\n",
       "    </tr>\n",
       "    <tr>\n",
       "      <th>3</th>\n",
       "      <td>ptpm_rnaAtlas - ProteomicsDB</td>\n",
       "      <td>Organ</td>\n",
       "      <td>[0.27258482281235574, 0.24911698419001607, 0.3...</td>\n",
       "      <td>0.051231</td>\n",
       "    </tr>\n",
       "  </tbody>\n",
       "</table>\n",
       "</div>"
      ],
      "text/plain": [
       "                     comparison  level  \\\n",
       "0        abAtlas - ProteomicsDB  Organ   \n",
       "1   tpm_rnaAtlas - ProteomicsDB  Organ   \n",
       "2  ntpm_rnaAtlas - ProteomicsDB  Organ   \n",
       "3  ptpm_rnaAtlas - ProteomicsDB  Organ   \n",
       "\n",
       "                                      kendall (mean)  kendall (stdev)  \n",
       "0  [0.027611700876335743, 0.052086253707029434, 0...         0.057434  \n",
       "1  [0.27298385694748606, 0.2500733737844302, 0.31...         0.051094  \n",
       "2  [0.2731757582189392, 0.25103925436320373, 0.31...         0.044643  \n",
       "3  [0.27258482281235574, 0.24911698419001607, 0.3...         0.051231  "
      ]
     },
     "execution_count": 5,
     "metadata": {},
     "output_type": "execute_result"
    }
   ],
   "source": [
    "comp"
   ]
  },
  {
   "cell_type": "code",
   "execution_count": 6,
   "metadata": {},
   "outputs": [
    {
     "data": {
      "text/plain": [
       "[Text(0, 0, 'abAtlas - ProteomicsDB'),\n",
       " Text(0, 0, 'tpm_rnaAtlas - ProteomicsDB'),\n",
       " Text(0, 0, 'ntpm_rnaAtlas - ProteomicsDB'),\n",
       " Text(0, 0, 'ptpm_rnaAtlas - ProteomicsDB')]"
      ]
     },
     "execution_count": 6,
     "metadata": {},
     "output_type": "execute_result"
    },
    {
     "data": {
      "image/png": "[encoded data removed]",
      "text/plain": [
       "<Figure size 720x432 with 1 Axes>"
      ]
     },
     "metadata": {},
     "output_type": "display_data"
    }
   ],
   "source": [
    "all_arrays = comp['kendall (mean)'].to_list()\n",
    "comparisons = comp['comparison'].to_list()\n",
    "sns.set_theme(style='whitegrid')\n",
    "fig, ax = plt.subplots(figsize=(10,6))\n",
    "ax = sns.boxplot(ax=ax, data=all_arrays)\n",
    "ax.set(ylabel='Kendall correlation coefficient distribution')\n",
    "ax.set_xticklabels(comparisons, rotation=90)\n",
    "#ax.set_title(\"Kendall correlation coefficient distribution over organs comparing HPA and MS protein expression\")"
   ]
  },
  {
   "cell_type": "markdown",
   "metadata": {},
   "source": [
    "## Comparison on protein level"
   ]
  },
  {
   "cell_type": "code",
   "execution_count": 7,
   "metadata": {},
   "outputs": [
    {
     "name": "stdout",
     "output_type": "stream",
     "text": [
      "comparison of abAtlas and PDB\n",
      "comparison of tpm_rnaAtlas and PDB\n",
      "comparison of ntpm_rnaAtlas and PDB\n",
      "comparison of ptpm_rnaAtlas and PDB\n"
     ]
    },
    {
     "data": {
      "text/plain": [
       "<Figure size 432x288 with 0 Axes>"
      ]
     },
     "metadata": {},
     "output_type": "display_data"
    },
    {
     "data": {
      "text/plain": [
       "<Figure size 432x288 with 0 Axes>"
      ]
     },
     "metadata": {},
     "output_type": "display_data"
    },
    {
     "data": {
      "text/plain": [
       "<Figure size 432x288 with 0 Axes>"
      ]
     },
     "metadata": {},
     "output_type": "display_data"
    },
    {
     "data": {
      "text/plain": [
       "<Figure size 432x288 with 0 Axes>"
      ]
     },
     "metadata": {},
     "output_type": "display_data"
    }
   ],
   "source": [
    "comp2 = pd.DataFrame(columns=['comparison', 'level', 'kendall (mean)', 'kendall (stdev)' ])\n",
    "\n",
    "\n",
    "\n",
    "hpa_atlases = [abAtlas, tpm_rnaAtlas, ntpm_rnaAtlas, ptpm_rnaAtlas]\n",
    "hpa_names = ['abAtlas', 'tpm_rnaAtlas', 'ntpm_rnaAtlas', 'ptpm_rnaAtlas']\n",
    "hpa_values = ['Level','TPM','nTPM','pTPM']\n",
    "\n",
    "protein_expression_atlases = [db]\n",
    "protein_expression_names = ['ProteomicsDB']\n",
    "i=0\n",
    "for hpa_atlas, hpa_name, hpa_value in zip(hpa_atlases, hpa_names, hpa_values):\n",
    "    for prot_atlas, prot_name in zip(protein_expression_atlases, protein_expression_names):\n",
    "        i += 1\n",
    "        plt.figure(i)\n",
    "        row = []\n",
    "\n",
    "        print('comparison of {} and {}'.format(hpa_name, prot_name))\n",
    "        row.append(hpa_name+' - '+prot_name)\n",
    "        df = pd.merge(hpa_atlas, prot_atlas, on=['Uniprot_id', 'Organ_id'], how='inner')\n",
    "        df = df[df['normalised intensity'].notna()]\n",
    "        #second comparison on protein level\n",
    "        proteins = df['Uniprot_id'].unique()\n",
    "        row.append('Protein')\n",
    "        proteinsDict = {elem : pd.DataFrame for elem in proteins}\n",
    "        for key in proteinsDict.keys():\n",
    "            proteinsDict[key] = df[:][df['Uniprot_id'] == key]\n",
    "\n",
    "        sc_list = [] #determine pearson correlation coefficients for each organ btw the normalised intensity and expression level value\n",
    "        ps_list = []\n",
    "        kendall_list = []\n",
    "\n",
    "        for key in proteinsDict.keys():\n",
    "            kendall = proteinsDict[key]['normalised intensity'].corr(proteinsDict[key][hpa_value], method = 'kendall')\n",
    "            kendall_list.append(kendall)\n",
    "        list_of_corrs = [kendall_list]\n",
    "        names = ['kendall']\n",
    "\n",
    "        for corr, name in zip(list_of_corrs, names):\n",
    "            corr_array = np.asarray(corr)\n",
    "            corr_array = corr_array[np.logical_not(np.isnan(corr_array))]\n",
    "            row.append(corr_array.tolist())\n",
    "            row.append(corr_array.std())\n",
    "                \n",
    "        comp2.loc[len(comp2)] = row"
   ]
  },
  {
   "cell_type": "code",
   "execution_count": 36,
   "metadata": {},
   "outputs": [
    {
     "data": {
      "text/plain": [
       "[Text(0, 0, 'abAtlas - ProteomicsDB'),\n",
       " Text(0, 0, 'tpm_rnaAtlas - ProteomicsDB'),\n",
       " Text(0, 0, 'ntpm_rnaAtlas - ProteomicsDB'),\n",
       " Text(0, 0, 'ptpm_rnaAtlas - ProteomicsDB')]"
      ]
     },
     "execution_count": 36,
     "metadata": {},
     "output_type": "execute_result"
    },
    {
     "data": {
      "image/png": "[encoded data removed]",
      "text/plain": [
       "<Figure size 720x432 with 1 Axes>"
      ]
     },
     "metadata": {},
     "output_type": "display_data"
    }
   ],
   "source": [
    "all_arrays = comp2['kendall (mean)'].to_list()\n",
    "comparisons = comp2['comparison'].to_list()\n",
    "sns.set_theme(style='whitegrid')\n",
    "fig, ax = plt.subplots(figsize=(10,6))\n",
    "ax = sns.boxplot(ax=ax, data=all_arrays)\n",
    "ax.set(ylabel='Kendall correlation coefficient distribution')\n",
    "ax.set_xticklabels(comparisons, rotation=90)\n",
    "#ax.set_title(\"Kendall correlation coefficient distribution over proteins comparing HPA and MS protein expression\")"
   ]
  }
 ],
 "metadata": {
  "kernelspec": {
   "display_name": "Python 3.6.13 ('tissuespecific')",
   "language": "python",
   "name": "python3"
  },
  "language_info": {
   "codemirror_mode": {
    "name": "ipython",
    "version": 3
   },
   "file_extension": ".py",
   "mimetype": "text/x-python",
   "name": "python",
   "nbconvert_exporter": "python",
   "pygments_lexer": "ipython3",
   "version": "3.6.13"
  },
  "orig_nbformat": 4,
  "vscode": {
   "interpreter": {
    "hash": "59057a64ae204f2fdb51e9e1b433726989fd2ce2c53f4ab90fe5cecdfcc3bed6"
   }
  }
 },
 "nbformat": 4,
 "nbformat_minor": 2
}
