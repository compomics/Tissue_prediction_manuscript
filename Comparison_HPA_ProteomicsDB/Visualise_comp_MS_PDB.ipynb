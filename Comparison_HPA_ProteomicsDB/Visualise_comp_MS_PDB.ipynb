{
 "cells": [
  {
   "cell_type": "code",
   "execution_count": 1,
   "metadata": {},
   "outputs": [],
   "source": [
    "import pandas as pd\n",
    "import seaborn as sns\n",
    "import numpy as np\n",
    "import matplotlib.pyplot as plt"
   ]
  },
  {
   "cell_type": "markdown",
   "metadata": {},
   "source": [
    "# Read atlases"
   ]
  },
  {
   "cell_type": "code",
   "execution_count": 2,
   "metadata": {},
   "outputs": [],
   "source": [
    "#ProteomicsDB\n",
    "db = pd.read_csv('proteomicsdb.csv')\n",
    "#NSAFatlases\n",
    "ms_atlas_no_abundant = pd.read_csv('ms_atlas_no_abundant_sorted.csv', sep=',')\n",
    "ms_atlas_filter_no_abundant = pd.read_csv('ms_atlas_filter_no_abundant_sorted.csv', sep=',')\n",
    "ms_atlas = pd.read_csv('ms_atlas_sorted.csv', sep=',')\n",
    "ms_atlas_filter = pd.read_csv('ms_atlas_filter_sorted.csv', sep=',')"
   ]
  },
  {
   "cell_type": "code",
   "execution_count": 3,
   "metadata": {},
   "outputs": [],
   "source": [
    "ms_atlas_no_abundant = ms_atlas_no_abundant.rename(columns={'uniprot_id': 'Uniprot_id'})\n",
    "ms_atlas_filter_no_abundant = ms_atlas_filter_no_abundant.rename(columns={'uniprot_id': 'Uniprot_id'})\n",
    "ms_atlas = ms_atlas.rename(columns={'uniprot_id': 'Uniprot_id'})\n",
    "ms_atlas_filter = ms_atlas_filter.rename(columns={'uniprot_id': 'Uniprot_id'})\n",
    "db = db.rename(columns={'UniProt': 'Uniprot_id'})\n"
   ]
  },
  {
   "cell_type": "code",
   "execution_count": 4,
   "metadata": {},
   "outputs": [],
   "source": [
    "ms_atlas_no_abundant = ms_atlas_no_abundant.dropna() \n",
    "ms_atlas_filter_no_abundant = ms_atlas_filter_no_abundant.dropna() \n",
    "ms_atlas = ms_atlas.dropna() \n",
    "ms_atlas_filter = ms_atlas_filter.dropna() \n",
    "db = db.dropna()"
   ]
  },
  {
   "cell_type": "code",
   "execution_count": 5,
   "metadata": {},
   "outputs": [],
   "source": [
    "#add randomised numbers for comparisons\n",
    "ms_atlas['NSAF_random'] = np.random.uniform(low=0, high=1, size=ms_atlas.shape[0])\n",
    "ms_atlas_filter['NSAF_random'] = np.random.uniform(low=0, high=1, size=ms_atlas_filter.shape[0])\n",
    "ms_atlas_no_abundant['NSAF_random'] = np.random.uniform(low=0, high=1, size=ms_atlas_no_abundant.shape[0])\n",
    "ms_atlas_filter_no_abundant['NSAF_random'] = np.random.uniform(low=0, high=1, size=ms_atlas_filter_no_abundant.shape[0])"
   ]
  },
  {
   "cell_type": "markdown",
   "metadata": {},
   "source": [
    "### Comparison on organ level"
   ]
  },
  {
   "cell_type": "code",
   "execution_count": null,
   "metadata": {},
   "outputs": [],
   "source": [
    "#real NSAF datasets\n",
    "comp = pd.DataFrame(columns=['comparison', 'level','spearman (mean)', 'spearman (stdev)' ])\n",
    "hpa_atlases = [db,]\n",
    "hpa_names = ['ProteomicsDB']\n",
    "hpa_values = ['normalised intensity']\n",
    "\n",
    "protein_expression_atlases = [ms_atlas, ms_atlas_filter, ms_atlas_no_abundant, ms_atlas_filter_no_abundant]\n",
    "protein_expression_names = ['PexAt', 'fPexAt', 'PexAt_abundant', 'fPexAt_abundant']\n",
    "i = 0\n",
    "for hpa_atlas, hpa_name, hpa_value in zip(hpa_atlases, hpa_names, hpa_values):\n",
    "    for prot_atlas, prot_name in zip(protein_expression_atlases, protein_expression_names):\n",
    "        row = []\n",
    "\n",
    "        print('comparison of {} and {}'.format(hpa_name, prot_name))\n",
    "        row.append(hpa_name+' - '+prot_name)\n",
    "        df = pd.merge(hpa_atlas, prot_atlas, on=['Uniprot_id', 'Organ_id'], how='inner')\n",
    "        df = df[df['NSAF'].notna()]\n",
    "        \n",
    "        #first comparison on organ level\n",
    "        organ = df['Organ_id'].unique()\n",
    "        row.append('Organ')\n",
    "        organsDict = {elem : pd.DataFrame for elem in organ}\n",
    "        for key in organsDict.keys():\n",
    "            organsDict[key] = df[:][df['Organ_id'] == key]\n",
    "\n",
    "        sc_list = [] #determine pearson correlation coefficients for each organ btw the NSAF and expression level value\n",
    "        ps_list = []\n",
    "        spearman_list = []\n",
    "\n",
    "        for key in organsDict.keys():\n",
    "            spearman = organsDict[key]['NSAF'].corr(organsDict[key][hpa_value], method = 'spearman')\n",
    "            spearman_list.append(spearman)\n",
    "        list_of_corrs = [spearman_list]\n",
    "        names = ['spearman']\n",
    "\n",
    "        for corr, name in zip(list_of_corrs, names):\n",
    "            corr_array = np.asarray(corr)\n",
    "            corr_array = corr_array[np.logical_not(np.isnan(corr_array))]\n",
    "            row.append(corr_array.tolist())\n",
    "            row.append(corr_array.std())\n",
    "                \n",
    "        comp.loc[len(comp)] = row\n"
   ]
  },
  {
   "cell_type": "code",
   "execution_count": null,
   "metadata": {},
   "outputs": [],
   "source": [
    "#randomised NSAF datasets\n",
    "hpa_atlases = [db,]\n",
    "hpa_names = ['ProteomicsDB']\n",
    "hpa_values = ['normalised intensity']\n",
    "\n",
    "protein_expression_atlases = [ms_atlas, ms_atlas_filter, ms_atlas_no_abundant, ms_atlas_filter_no_abundant]\n",
    "protein_expression_names = ['random PexAt', 'random fPexAt', 'random PexAt_abundant', 'random fPexAt_abundant']\n",
    "i = 0\n",
    "for hpa_atlas, hpa_name, hpa_value in zip(hpa_atlases, hpa_names, hpa_values):\n",
    "    for prot_atlas, prot_name in zip(protein_expression_atlases, protein_expression_names):\n",
    "        row = []\n",
    "\n",
    "        print('comparison of {} and {}'.format(hpa_name, prot_name))\n",
    "        row.append(hpa_name+' - '+prot_name)\n",
    "        df = pd.merge(hpa_atlas, prot_atlas, on=['Uniprot_id', 'Organ_id'], how='inner')\n",
    "        df = df[df['NSAF_random'].notna()]\n",
    "        \n",
    "        #first comparison on organ level\n",
    "        organ = df['Organ_id'].unique()\n",
    "        row.append('Organ')\n",
    "        organsDict = {elem : pd.DataFrame for elem in organ}\n",
    "        for key in organsDict.keys():\n",
    "            organsDict[key] = df[:][df['Organ_id'] == key]\n",
    "\n",
    "        sc_list = [] #determine pearson correlation coefficients for each organ btw the NSAF_random and expression level value\n",
    "        ps_list = []\n",
    "        spearman_list = []\n",
    "\n",
    "        for key in organsDict.keys():\n",
    "            spearman = organsDict[key]['NSAF_random'].corr(organsDict[key][hpa_value], method = 'spearman')\n",
    "            spearman_list.append(spearman)\n",
    "        list_of_corrs = [spearman_list]\n",
    "        names = ['spearman']\n",
    "\n",
    "        for corr, name in zip(list_of_corrs, names):\n",
    "            corr_array = np.asarray(corr)\n",
    "            corr_array = corr_array[np.logical_not(np.isnan(corr_array))]\n",
    "            row.append(corr_array.tolist())\n",
    "            row.append(corr_array.std())\n",
    "                \n",
    "        comp.loc[len(comp)] = row\n"
   ]
  },
  {
   "cell_type": "code",
   "execution_count": 9,
   "metadata": {},
   "outputs": [
    {
     "data": {
      "text/plain": [
       "[Text(0, 0, 'ProteomicsDB - PexAt'),\n",
       " Text(0, 0, 'ProteomicsDB - fPexAt'),\n",
       " Text(0, 0, 'ProteomicsDB - PexAt_abundant'),\n",
       " Text(0, 0, 'ProteomicsDB - fPexAt_abundant'),\n",
       " Text(0, 0, 'ProteomicsDB - random PexAt'),\n",
       " Text(0, 0, 'ProteomicsDB - random fPexAt'),\n",
       " Text(0, 0, 'ProteomicsDB - random PexAt_abundant'),\n",
       " Text(0, 0, 'ProteomicsDB - random fPexAt_abundant')]"
      ]
     },
     "execution_count": 9,
     "metadata": {},
     "output_type": "execute_result"
    },
    {
     "data": {
      "image/png": "[encoded data removed]",
      "text/plain": [
       "<Figure size 720x432 with 1 Axes>"
      ]
     },
     "metadata": {},
     "output_type": "display_data"
    }
   ],
   "source": [
    "all_arrays = comp['spearman (mean)'].to_list()\n",
    "comparisons = comp['comparison'].to_list()\n",
    "sns.set_theme(style='whitegrid')\n",
    "fig, ax = plt.subplots(figsize=(10,6))\n",
    "ax = sns.boxplot(ax=ax, data=all_arrays)\n",
    "ax.set(ylabel='spearman correlation coefficient distribution')\n",
    "ax.set(ylim=(-0.9,0.9))\n",
    "ax.set_xticklabels(comparisons, rotation=90)\n",
    "#ax.set_title(\"spearman correlation coefficient distribution over organs comparing HPA and MS protein expression\")"
   ]
  },
  {
   "cell_type": "markdown",
   "metadata": {},
   "source": [
    "### Comparison on Protein level"
   ]
  },
  {
   "cell_type": "code",
   "execution_count": 10,
   "metadata": {},
   "outputs": [
    {
     "name": "stdout",
     "output_type": "stream",
     "text": [
      "comparison of ProteomicsDB and PexAt\n"
     ]
    },
    {
     "name": "stderr",
     "output_type": "stream",
     "text": [
      "/home/compomics/.local/lib/python3.6/site-packages/scipy/stats/stats.py:4196: SpearmanRConstantInputWarning: An input array is constant; the correlation coefficent is not defined.\n",
      "  warnings.warn(SpearmanRConstantInputWarning())\n"
     ]
    },
    {
     "name": "stdout",
     "output_type": "stream",
     "text": [
      "comparison of ProteomicsDB and fPexAt\n",
      "comparison of ProteomicsDB and PexAt_abundant\n",
      "comparison of ProteomicsDB and fPexAt_abundant\n"
     ]
    },
    {
     "data": {
      "text/plain": [
       "<Figure size 432x288 with 0 Axes>"
      ]
     },
     "metadata": {},
     "output_type": "display_data"
    },
    {
     "data": {
      "text/plain": [
       "<Figure size 432x288 with 0 Axes>"
      ]
     },
     "metadata": {},
     "output_type": "display_data"
    },
    {
     "data": {
      "text/plain": [
       "<Figure size 432x288 with 0 Axes>"
      ]
     },
     "metadata": {},
     "output_type": "display_data"
    },
    {
     "data": {
      "text/plain": [
       "<Figure size 432x288 with 0 Axes>"
      ]
     },
     "metadata": {},
     "output_type": "display_data"
    }
   ],
   "source": [
    "#real NSAF datasets\n",
    "comp2 = pd.DataFrame(columns=['comparison', 'level', 'spearman (mean)', 'spearman (stdev)' ])\n",
    "\n",
    "hpa_atlases = [db,]\n",
    "hpa_names = ['ProteomicsDB']\n",
    "hpa_values = ['normalised intensity']\n",
    "\n",
    "protein_expression_atlases = [ms_atlas, ms_atlas_filter, ms_atlas_no_abundant, ms_atlas_filter_no_abundant]\n",
    "protein_expression_names = ['PexAt', 'fPexAt', 'PexAt_abundant', 'fPexAt_abundant']\n",
    "i=0\n",
    "for hpa_atlas, hpa_name, hpa_value in zip(hpa_atlases, hpa_names, hpa_values):\n",
    "    for prot_atlas, prot_name in zip(protein_expression_atlases, protein_expression_names):\n",
    "        i += 1\n",
    "        plt.figure(i)\n",
    "        row = []\n",
    "\n",
    "        print('comparison of {} and {}'.format(hpa_name, prot_name))\n",
    "        row.append(hpa_name+' - '+prot_name)\n",
    "        df = pd.merge(hpa_atlas, prot_atlas, on=['Uniprot_id', 'Organ_id'], how='inner')\n",
    "        df = df[df['NSAF'].notna()]\n",
    "        #second comparison on protein level\n",
    "        proteins = df['Uniprot_id'].unique()\n",
    "        row.append('Protein')\n",
    "        proteinsDict = {elem : pd.DataFrame for elem in proteins}\n",
    "        for key in proteinsDict.keys():\n",
    "            proteinsDict[key] = df[:][df['Uniprot_id'] == key]\n",
    "\n",
    "        sc_list = [] #determine pearson correlation coefficients for each organ btw the NSAF and expression level value\n",
    "        ps_list = []\n",
    "        spearman_list = []\n",
    "\n",
    "        for key in proteinsDict.keys():\n",
    "            spearman = proteinsDict[key]['NSAF'].corr(proteinsDict[key][hpa_value], method = 'spearman')\n",
    "            spearman_list.append(spearman)\n",
    "        list_of_corrs = [spearman_list]\n",
    "        names = ['spearman']\n",
    "\n",
    "        for corr, name in zip(list_of_corrs, names):\n",
    "            corr_array = np.asarray(corr)\n",
    "            corr_array = corr_array[np.logical_not(np.isnan(corr_array))]\n",
    "            row.append(corr_array.tolist())\n",
    "            row.append(corr_array.std())\n",
    "                \n",
    "        comp2.loc[len(comp2)] = row"
   ]
  },
  {
   "cell_type": "code",
   "execution_count": 11,
   "metadata": {},
   "outputs": [
    {
     "name": "stdout",
     "output_type": "stream",
     "text": [
      "comparison of ProteomicsDB and random PexAt\n",
      "comparison of ProteomicsDB and random fPexAt\n",
      "comparison of ProteomicsDB and random PexAt_abundant\n",
      "comparison of ProteomicsDB and random fPexAt_abundant\n"
     ]
    },
    {
     "data": {
      "text/plain": [
       "<Figure size 432x288 with 0 Axes>"
      ]
     },
     "metadata": {},
     "output_type": "display_data"
    },
    {
     "data": {
      "text/plain": [
       "<Figure size 432x288 with 0 Axes>"
      ]
     },
     "metadata": {},
     "output_type": "display_data"
    },
    {
     "data": {
      "text/plain": [
       "<Figure size 432x288 with 0 Axes>"
      ]
     },
     "metadata": {},
     "output_type": "display_data"
    },
    {
     "data": {
      "text/plain": [
       "<Figure size 432x288 with 0 Axes>"
      ]
     },
     "metadata": {},
     "output_type": "display_data"
    }
   ],
   "source": [
    "#randomised NSAF datasets\n",
    "hpa_atlases = [db,]\n",
    "hpa_names = ['ProteomicsDB']\n",
    "hpa_values = ['normalised intensity']\n",
    "\n",
    "protein_expression_atlases = [ms_atlas, ms_atlas_filter, ms_atlas_no_abundant, ms_atlas_filter_no_abundant]\n",
    "protein_expression_names = ['random PexAt', 'random fPexAt', 'random PexAt_abundant', 'random fPexAt_abundant']\n",
    "i=0\n",
    "for hpa_atlas, hpa_name, hpa_value in zip(hpa_atlases, hpa_names, hpa_values):\n",
    "    for prot_atlas, prot_name in zip(protein_expression_atlases, protein_expression_names):\n",
    "        i += 1\n",
    "        plt.figure(i)\n",
    "        row = []\n",
    "\n",
    "        print('comparison of {} and {}'.format(hpa_name, prot_name))\n",
    "        row.append(hpa_name+' - '+prot_name)\n",
    "        df = pd.merge(hpa_atlas, prot_atlas, on=['Uniprot_id', 'Organ_id'], how='inner')\n",
    "        df = df[df['NSAF_random'].notna()]\n",
    "        #second comparison on protein level\n",
    "        proteins = df['Uniprot_id'].unique()\n",
    "        row.append('Protein')\n",
    "        proteinsDict = {elem : pd.DataFrame for elem in proteins}\n",
    "        for key in proteinsDict.keys():\n",
    "            proteinsDict[key] = df[:][df['Uniprot_id'] == key]\n",
    "\n",
    "        sc_list = [] #determine pearson correlation coefficients for each organ btw the NSAF_random and expression level value\n",
    "        ps_list = []\n",
    "        spearman_list = []\n",
    "\n",
    "        for key in proteinsDict.keys():\n",
    "            spearman = proteinsDict[key]['NSAF_random'].corr(proteinsDict[key][hpa_value], method = 'spearman')\n",
    "            spearman_list.append(spearman)\n",
    "        list_of_corrs = [spearman_list]\n",
    "        names = ['spearman']\n",
    "\n",
    "        for corr, name in zip(list_of_corrs, names):\n",
    "            corr_array = np.asarray(corr)\n",
    "            corr_array = corr_array[np.logical_not(np.isnan(corr_array))]\n",
    "            row.append(corr_array.tolist())\n",
    "            row.append(corr_array.std())\n",
    "                \n",
    "        comp2.loc[len(comp2)] = row"
   ]
  },
  {
   "cell_type": "code",
   "execution_count": 12,
   "metadata": {},
   "outputs": [
    {
     "data": {
      "text/html": [
       "<div>\n",
       "<style scoped>\n",
       "    .dataframe tbody tr th:only-of-type {\n",
       "        vertical-align: middle;\n",
       "    }\n",
       "\n",
       "    .dataframe tbody tr th {\n",
       "        vertical-align: top;\n",
       "    }\n",
       "\n",
       "    .dataframe thead th {\n",
       "        text-align: right;\n",
       "    }\n",
       "</style>\n",
       "<table border=\"1\" class=\"dataframe\">\n",
       "  <thead>\n",
       "    <tr style=\"text-align: right;\">\n",
       "      <th></th>\n",
       "      <th>comparison</th>\n",
       "      <th>level</th>\n",
       "      <th>spearman (mean)</th>\n",
       "      <th>spearman (stdev)</th>\n",
       "    </tr>\n",
       "  </thead>\n",
       "  <tbody>\n",
       "    <tr>\n",
       "      <th>0</th>\n",
       "      <td>ProteomicsDB - PexAt</td>\n",
       "      <td>Protein</td>\n",
       "      <td>[0.5482040667314768, 0.2574257598824511, 0.711...</td>\n",
       "      <td>0.449197</td>\n",
       "    </tr>\n",
       "    <tr>\n",
       "      <th>1</th>\n",
       "      <td>ProteomicsDB - fPexAt</td>\n",
       "      <td>Protein</td>\n",
       "      <td>[0.4665397083248459, 0.4071929290505081, 0.180...</td>\n",
       "      <td>0.531634</td>\n",
       "    </tr>\n",
       "    <tr>\n",
       "      <th>2</th>\n",
       "      <td>ProteomicsDB - PexAt_abundant</td>\n",
       "      <td>Protein</td>\n",
       "      <td>[0.33276591579035836, 0.28639532545326823, 0.7...</td>\n",
       "      <td>0.450603</td>\n",
       "    </tr>\n",
       "    <tr>\n",
       "      <th>3</th>\n",
       "      <td>ProteomicsDB - fPexAt_abundant</td>\n",
       "      <td>Protein</td>\n",
       "      <td>[0.43930124750866034, 0.4071929290505081, 0.16...</td>\n",
       "      <td>0.530568</td>\n",
       "    </tr>\n",
       "    <tr>\n",
       "      <th>4</th>\n",
       "      <td>ProteomicsDB - random PexAt</td>\n",
       "      <td>Protein</td>\n",
       "      <td>[-0.06641052351608168, -0.2922625792397628, 0....</td>\n",
       "      <td>0.438946</td>\n",
       "    </tr>\n",
       "    <tr>\n",
       "      <th>5</th>\n",
       "      <td>ProteomicsDB - random fPexAt</td>\n",
       "      <td>Protein</td>\n",
       "      <td>[-0.07968871125687638, 0.02395252523826518, -0...</td>\n",
       "      <td>0.562610</td>\n",
       "    </tr>\n",
       "    <tr>\n",
       "      <th>6</th>\n",
       "      <td>ProteomicsDB - random PexAt_abundant</td>\n",
       "      <td>Protein</td>\n",
       "      <td>[-0.24165047380537347, -0.001833516808279566, ...</td>\n",
       "      <td>0.440585</td>\n",
       "    </tr>\n",
       "    <tr>\n",
       "      <th>7</th>\n",
       "      <td>ProteomicsDB - random fPexAt_abundant</td>\n",
       "      <td>Protein</td>\n",
       "      <td>[-0.14794699699267486, 0.5030030300035688, -0....</td>\n",
       "      <td>0.563770</td>\n",
       "    </tr>\n",
       "  </tbody>\n",
       "</table>\n",
       "</div>"
      ],
      "text/plain": [
       "                              comparison    level  \\\n",
       "0                   ProteomicsDB - PexAt  Protein   \n",
       "1                  ProteomicsDB - fPexAt  Protein   \n",
       "2          ProteomicsDB - PexAt_abundant  Protein   \n",
       "3         ProteomicsDB - fPexAt_abundant  Protein   \n",
       "4            ProteomicsDB - random PexAt  Protein   \n",
       "5           ProteomicsDB - random fPexAt  Protein   \n",
       "6   ProteomicsDB - random PexAt_abundant  Protein   \n",
       "7  ProteomicsDB - random fPexAt_abundant  Protein   \n",
       "\n",
       "                                     spearman (mean)  spearman (stdev)  \n",
       "0  [0.5482040667314768, 0.2574257598824511, 0.711...          0.449197  \n",
       "1  [0.4665397083248459, 0.4071929290505081, 0.180...          0.531634  \n",
       "2  [0.33276591579035836, 0.28639532545326823, 0.7...          0.450603  \n",
       "3  [0.43930124750866034, 0.4071929290505081, 0.16...          0.530568  \n",
       "4  [-0.06641052351608168, -0.2922625792397628, 0....          0.438946  \n",
       "5  [-0.07968871125687638, 0.02395252523826518, -0...          0.562610  \n",
       "6  [-0.24165047380537347, -0.001833516808279566, ...          0.440585  \n",
       "7  [-0.14794699699267486, 0.5030030300035688, -0....          0.563770  "
      ]
     },
     "execution_count": 12,
     "metadata": {},
     "output_type": "execute_result"
    }
   ],
   "source": [
    "comp2"
   ]
  },
  {
   "cell_type": "code",
   "execution_count": 13,
   "metadata": {},
   "outputs": [
    {
     "data": {
      "text/plain": [
       "[Text(0, 0, 'ProteomicsDB - PexAt'),\n",
       " Text(0, 0, 'ProteomicsDB - fPexAt'),\n",
       " Text(0, 0, 'ProteomicsDB - PexAt_abundant'),\n",
       " Text(0, 0, 'ProteomicsDB - fPexAt_abundant'),\n",
       " Text(0, 0, 'ProteomicsDB - random PexAt'),\n",
       " Text(0, 0, 'ProteomicsDB - random fPexAt'),\n",
       " Text(0, 0, 'ProteomicsDB - random PexAt_abundant'),\n",
       " Text(0, 0, 'ProteomicsDB - random fPexAt_abundant')]"
      ]
     },
     "execution_count": 13,
     "metadata": {},
     "output_type": "execute_result"
    },
    {
     "data": {
      "image/png": "[encoded data removed]",
      "text/plain": [
       "<Figure size 720x432 with 1 Axes>"
      ]
     },
     "metadata": {},
     "output_type": "display_data"
    }
   ],
   "source": [
    "all_arrays = comp2['spearman (mean)'].to_list()\n",
    "comparisons = comp2['comparison'].to_list()\n",
    "sns.set_theme(style='whitegrid')\n",
    "fig, ax = plt.subplots(figsize=(10,6))\n",
    "ax = sns.boxplot(ax=ax, data=all_arrays)\n",
    "ax.set(ylabel='spearman correlation coefficient distribution')\n",
    "ax.set_xticklabels(comparisons, rotation=90)\n",
    "#ax.set_title(\"spearman correlation coefficient distribution over proteins comparing HPA and MS protein expression\")"
   ]
  },
  {
   "cell_type": "code",
   "execution_count": null,
   "metadata": {},
   "outputs": [],
   "source": []
  }
 ],
 "metadata": {
  "kernelspec": {
   "display_name": "Python 3.6.13 ('tissuespecific')",
   "language": "python",
   "name": "python3"
  },
  "language_info": {
   "codemirror_mode": {
    "name": "ipython",
    "version": 3
   },
   "file_extension": ".py",
   "mimetype": "text/x-python",
   "name": "python",
   "nbconvert_exporter": "python",
   "pygments_lexer": "ipython3",
   "version": "3.6.13"
  },
  "orig_nbformat": 4,
  "vscode": {
   "interpreter": {
    "hash": "59057a64ae204f2fdb51e9e1b433726989fd2ce2c53f4ab90fe5cecdfcc3bed6"
   }
  }
 },
 "nbformat": 4,
 "nbformat_minor": 2
}
