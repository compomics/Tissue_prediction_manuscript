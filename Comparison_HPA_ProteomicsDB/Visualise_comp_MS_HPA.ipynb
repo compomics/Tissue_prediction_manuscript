{
 "cells": [
  {
   "cell_type": "code",
   "execution_count": 1,
   "metadata": {},
   "outputs": [],
   "source": [
    "import pandas as pd\n",
    "import numpy as np\n",
    "import matplotlib.pyplot as plt"
   ]
  },
  {
   "cell_type": "markdown",
   "metadata": {},
   "source": [
    "Read atlases"
   ]
  },
  {
   "cell_type": "code",
   "execution_count": 2,
   "metadata": {},
   "outputs": [],
   "source": [
    "#HPA atlases\n",
    "tpm_rnaAtlas = pd.read_csv('tpm_rnaAtlas.csv')\n",
    "ntpm_rnaAtlas = pd.read_csv('ntpm_rnaAtlas.csv')\n",
    "ptpm_rnaAtlas = pd.read_csv('ptpm_rnaAtlas.csv')\n",
    "abAtlas = pd.read_csv('antibody_atlas.csv')\n",
    "#NSAF atlases\n",
    "ms_atlas_no_abundant = pd.read_csv('ms_atlas_no_abundant_sorted.csv', sep=',')\n",
    "ms_atlas_filter_no_abundant = pd.read_csv('ms_atlas_filter_no_abundant_sorted.csv', sep=',')\n",
    "ms_atlas = pd.read_csv('ms_atlas_sorted.csv', sep=',')\n",
    "ms_atlas_filter = pd.read_csv('ms_atlas_filter_sorted.csv', sep=',')"
   ]
  },
  {
   "cell_type": "code",
   "execution_count": 3,
   "metadata": {},
   "outputs": [],
   "source": [
    "ms_atlas_no_abundant = ms_atlas_no_abundant.rename(columns={'uniprot_id': 'Uniprot_id'})\n",
    "ms_atlas_filter_no_abundant = ms_atlas_filter_no_abundant.rename(columns={'uniprot_id': 'Uniprot_id'})\n",
    "ms_atlas = ms_atlas.rename(columns={'uniprot_id': 'Uniprot_id'})\n",
    "ms_atlas_filter = ms_atlas_filter.rename(columns={'uniprot_id': 'Uniprot_id'})\n",
    "abAtlas = abAtlas.rename(columns={'uniprot_id': 'Uniprot_id'})\n"
   ]
  },
  {
   "cell_type": "code",
   "execution_count": 4,
   "metadata": {},
   "outputs": [],
   "source": [
    "ms_atlas['NSAF_random'] = np.random.uniform(low=0, high=1, size=ms_atlas.shape[0])\n",
    "ms_atlas_filter['NSAF_random'] = np.random.uniform(low=0, high=1, size=ms_atlas_filter.shape[0])\n",
    "ms_atlas_no_abundant['NSAF_random'] = np.random.uniform(low=0, high=1, size=ms_atlas_no_abundant.shape[0])\n",
    "ms_atlas_filter_no_abundant['NSAF_random'] = np.random.uniform(low=0, high=1, size=ms_atlas_filter_no_abundant.shape[0])"
   ]
  },
  {
   "cell_type": "markdown",
   "metadata": {},
   "source": [
    "## Comparison on organ level"
   ]
  },
  {
   "cell_type": "code",
   "execution_count": 5,
   "metadata": {},
   "outputs": [
    {
     "name": "stdout",
     "output_type": "stream",
     "text": [
      "comparison of antibody and PexAt\n",
      "comparison of antibody and fPexAt\n",
      "comparison of antibody and PexAt_abundant\n",
      "comparison of antibody and fPexAt_abundant\n",
      "comparison of RNA (nTPM) and PexAt\n",
      "comparison of RNA (nTPM) and fPexAt\n",
      "comparison of RNA (nTPM) and PexAt_abundant\n",
      "comparison of RNA (nTPM) and fPexAt_abundant\n"
     ]
    }
   ],
   "source": [
    "comp = pd.DataFrame(columns=['comparison', 'level','kendall (mean)', 'kendall (stdev)' ])\n",
    "\n",
    "hpa_atlases = [abAtlas,ntpm_rnaAtlas]\n",
    "hpa_names=['antibody', 'RNA (nTPM)']\n",
    "hpa_values = ['Level','nTPM']\n",
    "protein_expression_atlases = [ms_atlas, ms_atlas_filter, ms_atlas_no_abundant, ms_atlas_filter_no_abundant]\n",
    "protein_expression_names = ['PexAt', 'fPexAt', 'PexAt_abundant', 'fPexAt_abundant']\n",
    "i = 0\n",
    "for hpa_atlas, hpa_name, hpa_value in zip(hpa_atlases, hpa_names, hpa_values):\n",
    "    for prot_atlas, prot_name in zip(protein_expression_atlases, protein_expression_names):\n",
    "        row = []\n",
    "\n",
    "        print('comparison of {} and {}'.format(hpa_name, prot_name))\n",
    "        row.append(hpa_name+' - '+prot_name)\n",
    "        df = pd.merge(hpa_atlas, prot_atlas, on=['Uniprot_id', 'Organ_id'], how='inner')\n",
    "        df = df[df['NSAF'].notna()]\n",
    "        \n",
    "        #first comparison on organ level\n",
    "        organ = df['Organ_id'].unique()\n",
    "        row.append('Organ')\n",
    "        organsDict = {elem : pd.DataFrame for elem in organ}\n",
    "        for key in organsDict.keys():\n",
    "            organsDict[key] = df[:][df['Organ_id'] == key]\n",
    "\n",
    "        sc_list = [] #determine pearson correlation coefficients for each organ btw the NSAF and expression level value\n",
    "        ps_list = []\n",
    "        kendall_list = []\n",
    "\n",
    "        for key in organsDict.keys():\n",
    "            kendall = organsDict[key]['NSAF'].corr(organsDict[key][hpa_value], method = 'kendall')\n",
    "            kendall_list.append(kendall)\n",
    "        list_of_corrs = [kendall_list]\n",
    "        names = ['kendall']\n",
    "\n",
    "        for corr, name in zip(list_of_corrs, names):\n",
    "            corr_array = np.asarray(corr)\n",
    "            corr_array = corr_array[np.logical_not(np.isnan(corr_array))]\n",
    "            row.append(corr_array.tolist())\n",
    "            row.append(corr_array.std())\n",
    "                \n",
    "        comp.loc[len(comp)] = row\n"
   ]
  },
  {
   "cell_type": "code",
   "execution_count": 6,
   "metadata": {},
   "outputs": [
    {
     "name": "stdout",
     "output_type": "stream",
     "text": [
      "comparison of antibody and random PexAt\n",
      "comparison of antibody and random fPexAt\n",
      "comparison of antibody and random PexAt_abundant\n",
      "comparison of antibody and random fPexAt_abundant\n",
      "comparison of RNA (nTPM) and random PexAt\n",
      "comparison of RNA (nTPM) and random fPexAt\n",
      "comparison of RNA (nTPM) and random PexAt_abundant\n",
      "comparison of RNA (nTPM) and random fPexAt_abundant\n"
     ]
    }
   ],
   "source": [
    "hpa_atlases = [abAtlas,ntpm_rnaAtlas]\n",
    "hpa_names=['antibody', 'RNA (nTPM)']\n",
    "hpa_values = ['Level','nTPM']\n",
    "\n",
    "protein_expression_atlases = [ms_atlas, ms_atlas_filter, ms_atlas_no_abundant, ms_atlas_filter_no_abundant]\n",
    "protein_expression_names =  ['random PexAt', 'random fPexAt', 'random PexAt_abundant', 'random fPexAt_abundant']\n",
    "i=0\n",
    "for hpa_atlas, hpa_name, hpa_value in zip(hpa_atlases, hpa_names, hpa_values):\n",
    "    for prot_atlas, prot_name in zip(protein_expression_atlases, protein_expression_names):\n",
    "        row = []\n",
    "\n",
    "        print('comparison of {} and {}'.format(hpa_name, prot_name))\n",
    "        row.append(hpa_name+' - '+prot_name)\n",
    "        df = pd.merge(hpa_atlas, prot_atlas, on=['Uniprot_id', 'Organ_id'], how='inner')\n",
    "        df = df[df['NSAF_random'].notna()]\n",
    "        \n",
    "        #first comparison on organ level\n",
    "        organ = df['Organ_id'].unique()\n",
    "        row.append('Organ')\n",
    "        organsDict = {elem : pd.DataFrame for elem in organ}\n",
    "        for key in organsDict.keys():\n",
    "            organsDict[key] = df[:][df['Organ_id'] == key]\n",
    "\n",
    "        sc_list = [] #determine pearson correlation coefficients for each organ btw the NSAF_random and expression level value\n",
    "        ps_list = []\n",
    "        kendall_list = []\n",
    "\n",
    "        for key in organsDict.keys():\n",
    "            kendall = organsDict[key]['NSAF_random'].corr(organsDict[key][hpa_value], method = 'kendall')\n",
    "            kendall_list.append(kendall)\n",
    "        list_of_corrs = [kendall_list]\n",
    "        names = ['kendall']\n",
    "\n",
    "        for corr, name in zip(list_of_corrs, names):\n",
    "            corr_array = np.asarray(corr)\n",
    "            corr_array = corr_array[np.logical_not(np.isnan(corr_array))]\n",
    "            row.append(corr_array.tolist())\n",
    "            row.append(corr_array.std())\n",
    "                \n",
    "        comp.loc[len(comp)] = row\n"
   ]
  },
  {
   "cell_type": "code",
   "execution_count": 7,
   "metadata": {},
   "outputs": [
    {
     "data": {
      "text/html": [
       "<div>\n",
       "<style scoped>\n",
       "    .dataframe tbody tr th:only-of-type {\n",
       "        vertical-align: middle;\n",
       "    }\n",
       "\n",
       "    .dataframe tbody tr th {\n",
       "        vertical-align: top;\n",
       "    }\n",
       "\n",
       "    .dataframe thead th {\n",
       "        text-align: right;\n",
       "    }\n",
       "</style>\n",
       "<table border=\"1\" class=\"dataframe\">\n",
       "  <thead>\n",
       "    <tr style=\"text-align: right;\">\n",
       "      <th></th>\n",
       "      <th>comparison</th>\n",
       "      <th>level</th>\n",
       "      <th>kendall (mean)</th>\n",
       "      <th>kendall (stdev)</th>\n",
       "    </tr>\n",
       "  </thead>\n",
       "  <tbody>\n",
       "    <tr>\n",
       "      <th>0</th>\n",
       "      <td>antibody - PexAt</td>\n",
       "      <td>Organ</td>\n",
       "      <td>[0.05909221181199853, 0.05017591739871727, 0.0...</td>\n",
       "      <td>0.128659</td>\n",
       "    </tr>\n",
       "    <tr>\n",
       "      <th>1</th>\n",
       "      <td>antibody - fPexAt</td>\n",
       "      <td>Organ</td>\n",
       "      <td>[-0.004068523853093484, -0.08224904075569014, ...</td>\n",
       "      <td>0.071822</td>\n",
       "    </tr>\n",
       "    <tr>\n",
       "      <th>2</th>\n",
       "      <td>antibody - PexAt_abundant</td>\n",
       "      <td>Organ</td>\n",
       "      <td>[0.06055020520981424, 0.04606490617933488, 0.0...</td>\n",
       "      <td>0.033318</td>\n",
       "    </tr>\n",
       "    <tr>\n",
       "      <th>3</th>\n",
       "      <td>antibody - fPexAt_abundant</td>\n",
       "      <td>Organ</td>\n",
       "      <td>[0.0005323999234127375, -0.0727301257893653, 0...</td>\n",
       "      <td>0.094702</td>\n",
       "    </tr>\n",
       "    <tr>\n",
       "      <th>4</th>\n",
       "      <td>RNA (nTPM) - PexAt</td>\n",
       "      <td>Organ</td>\n",
       "      <td>[0.2584420813498682, 0.25991653577725327, 0.21...</td>\n",
       "      <td>0.050395</td>\n",
       "    </tr>\n",
       "    <tr>\n",
       "      <th>5</th>\n",
       "      <td>RNA (nTPM) - fPexAt</td>\n",
       "      <td>Organ</td>\n",
       "      <td>[0.232298468277482, 0.27271005732090253, 0.210...</td>\n",
       "      <td>0.083508</td>\n",
       "    </tr>\n",
       "    <tr>\n",
       "      <th>6</th>\n",
       "      <td>RNA (nTPM) - PexAt_abundant</td>\n",
       "      <td>Organ</td>\n",
       "      <td>[0.2560908731291427, 0.26155105742843693, 0.21...</td>\n",
       "      <td>0.046055</td>\n",
       "    </tr>\n",
       "    <tr>\n",
       "      <th>7</th>\n",
       "      <td>RNA (nTPM) - fPexAt_abundant</td>\n",
       "      <td>Organ</td>\n",
       "      <td>[0.20590119686443378, 0.2690931923958845, 0.19...</td>\n",
       "      <td>0.116329</td>\n",
       "    </tr>\n",
       "    <tr>\n",
       "      <th>8</th>\n",
       "      <td>antibody - random PexAt</td>\n",
       "      <td>Organ</td>\n",
       "      <td>[0.005340690335683962, 0.005909832085741988, -...</td>\n",
       "      <td>0.025629</td>\n",
       "    </tr>\n",
       "    <tr>\n",
       "      <th>9</th>\n",
       "      <td>antibody - random fPexAt</td>\n",
       "      <td>Organ</td>\n",
       "      <td>[0.008263223203662644, 0.012395364449336194, 0...</td>\n",
       "      <td>0.051502</td>\n",
       "    </tr>\n",
       "    <tr>\n",
       "      <th>10</th>\n",
       "      <td>antibody - random PexAt_abundant</td>\n",
       "      <td>Organ</td>\n",
       "      <td>[-0.0028271821799549846, 0.01173790868199318, ...</td>\n",
       "      <td>0.012861</td>\n",
       "    </tr>\n",
       "    <tr>\n",
       "      <th>11</th>\n",
       "      <td>antibody - random fPexAt_abundant</td>\n",
       "      <td>Organ</td>\n",
       "      <td>[-0.0030228796619614137, 0.013752905586523093,...</td>\n",
       "      <td>0.043434</td>\n",
       "    </tr>\n",
       "    <tr>\n",
       "      <th>12</th>\n",
       "      <td>RNA (nTPM) - random PexAt</td>\n",
       "      <td>Organ</td>\n",
       "      <td>[-0.001465476317270522, 0.0025578714133438667,...</td>\n",
       "      <td>0.009336</td>\n",
       "    </tr>\n",
       "    <tr>\n",
       "      <th>13</th>\n",
       "      <td>RNA (nTPM) - random fPexAt</td>\n",
       "      <td>Organ</td>\n",
       "      <td>[-0.030417262762483962, 0.009057803065548245, ...</td>\n",
       "      <td>0.038181</td>\n",
       "    </tr>\n",
       "    <tr>\n",
       "      <th>14</th>\n",
       "      <td>RNA (nTPM) - random PexAt_abundant</td>\n",
       "      <td>Organ</td>\n",
       "      <td>[0.0059953557805398185, -0.0009834914103710568...</td>\n",
       "      <td>0.017955</td>\n",
       "    </tr>\n",
       "    <tr>\n",
       "      <th>15</th>\n",
       "      <td>RNA (nTPM) - random fPexAt_abundant</td>\n",
       "      <td>Organ</td>\n",
       "      <td>[0.07658057546023736, 0.0044169663688393476, -...</td>\n",
       "      <td>0.036697</td>\n",
       "    </tr>\n",
       "  </tbody>\n",
       "</table>\n",
       "</div>"
      ],
      "text/plain": [
       "                             comparison  level  \\\n",
       "0                      antibody - PexAt  Organ   \n",
       "1                     antibody - fPexAt  Organ   \n",
       "2             antibody - PexAt_abundant  Organ   \n",
       "3            antibody - fPexAt_abundant  Organ   \n",
       "4                    RNA (nTPM) - PexAt  Organ   \n",
       "5                   RNA (nTPM) - fPexAt  Organ   \n",
       "6           RNA (nTPM) - PexAt_abundant  Organ   \n",
       "7          RNA (nTPM) - fPexAt_abundant  Organ   \n",
       "8               antibody - random PexAt  Organ   \n",
       "9              antibody - random fPexAt  Organ   \n",
       "10     antibody - random PexAt_abundant  Organ   \n",
       "11    antibody - random fPexAt_abundant  Organ   \n",
       "12            RNA (nTPM) - random PexAt  Organ   \n",
       "13           RNA (nTPM) - random fPexAt  Organ   \n",
       "14   RNA (nTPM) - random PexAt_abundant  Organ   \n",
       "15  RNA (nTPM) - random fPexAt_abundant  Organ   \n",
       "\n",
       "                                       kendall (mean)  kendall (stdev)  \n",
       "0   [0.05909221181199853, 0.05017591739871727, 0.0...         0.128659  \n",
       "1   [-0.004068523853093484, -0.08224904075569014, ...         0.071822  \n",
       "2   [0.06055020520981424, 0.04606490617933488, 0.0...         0.033318  \n",
       "3   [0.0005323999234127375, -0.0727301257893653, 0...         0.094702  \n",
       "4   [0.2584420813498682, 0.25991653577725327, 0.21...         0.050395  \n",
       "5   [0.232298468277482, 0.27271005732090253, 0.210...         0.083508  \n",
       "6   [0.2560908731291427, 0.26155105742843693, 0.21...         0.046055  \n",
       "7   [0.20590119686443378, 0.2690931923958845, 0.19...         0.116329  \n",
       "8   [0.005340690335683962, 0.005909832085741988, -...         0.025629  \n",
       "9   [0.008263223203662644, 0.012395364449336194, 0...         0.051502  \n",
       "10  [-0.0028271821799549846, 0.01173790868199318, ...         0.012861  \n",
       "11  [-0.0030228796619614137, 0.013752905586523093,...         0.043434  \n",
       "12  [-0.001465476317270522, 0.0025578714133438667,...         0.009336  \n",
       "13  [-0.030417262762483962, 0.009057803065548245, ...         0.038181  \n",
       "14  [0.0059953557805398185, -0.0009834914103710568...         0.017955  \n",
       "15  [0.07658057546023736, 0.0044169663688393476, -...         0.036697  "
      ]
     },
     "execution_count": 7,
     "metadata": {},
     "output_type": "execute_result"
    }
   ],
   "source": [
    "comp"
   ]
  },
  {
   "cell_type": "code",
   "execution_count": 12,
   "metadata": {},
   "outputs": [
    {
     "data": {
      "text/plain": [
       "[Text(0, 0, 'antibody - PexAt'),\n",
       " Text(0, 0, 'antibody - fPexAt'),\n",
       " Text(0, 0, 'antibody - PexAt_abundant'),\n",
       " Text(0, 0, 'antibody - fPexAt_abundant'),\n",
       " Text(0, 0, 'RNA (nTPM) - PexAt'),\n",
       " Text(0, 0, 'RNA (nTPM) - fPexAt'),\n",
       " Text(0, 0, 'RNA (nTPM) - PexAt_abundant'),\n",
       " Text(0, 0, 'RNA (nTPM) - fPexAt_abundant'),\n",
       " Text(0, 0, 'antibody - random PexAt'),\n",
       " Text(0, 0, 'antibody - random fPexAt'),\n",
       " Text(0, 0, 'antibody - random PexAt_abundant'),\n",
       " Text(0, 0, 'antibody - random fPexAt_abundant'),\n",
       " Text(0, 0, 'RNA (nTPM) - random PexAt'),\n",
       " Text(0, 0, 'RNA (nTPM) - random fPexAt'),\n",
       " Text(0, 0, 'RNA (nTPM) - random PexAt_abundant'),\n",
       " Text(0, 0, 'RNA (nTPM) - random fPexAt_abundant')]"
      ]
     },
     "execution_count": 12,
     "metadata": {},
     "output_type": "execute_result"
    },
    {
     "data": {
      "image/png": "[encoded data removed]",
      "text/plain": [
       "<Figure size 1152x432 with 1 Axes>"
      ]
     },
     "metadata": {},
     "output_type": "display_data"
    }
   ],
   "source": [
    "all_arrays = comp['kendall (mean)'].to_list()\n",
    "comparisons = comp['comparison'].to_list()\n",
    "sns.set_theme(style='whitegrid')\n",
    "sns.set(font_scale=1.25)\n",
    "fig, ax = plt.subplots(figsize=(16,6))\n",
    "ax = sns.boxplot(ax=ax, data=all_arrays)\n",
    "ax.set(ylabel='Kendall correlation coefficient distribution')\n",
    "ax.set_xticklabels(comparisons, rotation=90)\n",
    "#ax.set_title(\"Kendall correlation coefficient distribution over organs comparing HPA and MS protein expression\")"
   ]
  },
  {
   "cell_type": "markdown",
   "metadata": {},
   "source": [
    "## Comparison on protein level"
   ]
  },
  {
   "cell_type": "code",
   "execution_count": 15,
   "metadata": {},
   "outputs": [
    {
     "name": "stdout",
     "output_type": "stream",
     "text": [
      "comparison of antibody and PexAt\n",
      "comparison of antibody and fPexAt\n",
      "comparison of antibody and PexAt_abundant\n",
      "comparison of antibody and fPexAt_abundant\n",
      "comparison of RNA (nTPM) and PexAt\n",
      "comparison of RNA (nTPM) and fPexAt\n",
      "comparison of RNA (nTPM) and PexAt_abundant\n",
      "comparison of RNA (nTPM) and fPexAt_abundant\n"
     ]
    },
    {
     "data": {
      "text/plain": [
       "<Figure size 432x288 with 0 Axes>"
      ]
     },
     "metadata": {},
     "output_type": "display_data"
    },
    {
     "data": {
      "text/plain": [
       "<Figure size 432x288 with 0 Axes>"
      ]
     },
     "metadata": {},
     "output_type": "display_data"
    },
    {
     "data": {
      "text/plain": [
       "<Figure size 432x288 with 0 Axes>"
      ]
     },
     "metadata": {},
     "output_type": "display_data"
    },
    {
     "data": {
      "text/plain": [
       "<Figure size 432x288 with 0 Axes>"
      ]
     },
     "metadata": {},
     "output_type": "display_data"
    },
    {
     "data": {
      "text/plain": [
       "<Figure size 432x288 with 0 Axes>"
      ]
     },
     "metadata": {},
     "output_type": "display_data"
    },
    {
     "data": {
      "text/plain": [
       "<Figure size 432x288 with 0 Axes>"
      ]
     },
     "metadata": {},
     "output_type": "display_data"
    },
    {
     "data": {
      "text/plain": [
       "<Figure size 432x288 with 0 Axes>"
      ]
     },
     "metadata": {},
     "output_type": "display_data"
    },
    {
     "data": {
      "text/plain": [
       "<Figure size 432x288 with 0 Axes>"
      ]
     },
     "metadata": {},
     "output_type": "display_data"
    }
   ],
   "source": [
    "comp2 = pd.DataFrame(columns=['comparison', 'level', 'kendall (mean)', 'kendall (stdev)' ])\n",
    "hpa_atlases = [abAtlas,ntpm_rnaAtlas]\n",
    "hpa_names=['antibody', 'RNA (nTPM)']\n",
    "hpa_values = ['Level','nTPM']\n",
    "\n",
    "protein_expression_atlases = [ms_atlas, ms_atlas_filter, ms_atlas_no_abundant, ms_atlas_filter_no_abundant]\n",
    "protein_expression_names = ['PexAt', 'fPexAt', 'PexAt_abundant', 'fPexAt_abundant']\n",
    "i = 0\n",
    "for hpa_atlas, hpa_name, hpa_value in zip(hpa_atlases, hpa_names, hpa_values):\n",
    "    for prot_atlas, prot_name in zip(protein_expression_atlases, protein_expression_names):\n",
    "        i += 1\n",
    "        plt.figure(i)\n",
    "        row = []\n",
    "\n",
    "        print('comparison of {} and {}'.format(hpa_name, prot_name))\n",
    "        row.append(hpa_name+' - '+prot_name)\n",
    "        df = pd.merge(hpa_atlas, prot_atlas, on=['Uniprot_id', 'Organ_id'], how='inner')\n",
    "        df = df[df['NSAF'].notna()]\n",
    "        #second comparison on protein level\n",
    "        proteins = df['Uniprot_id'].unique()\n",
    "        row.append('Protein')\n",
    "        proteinsDict = {elem : pd.DataFrame for elem in proteins}\n",
    "        for key in proteinsDict.keys():\n",
    "            proteinsDict[key] = df[:][df['Uniprot_id'] == key]\n",
    "\n",
    "        sc_list = [] #determine pearson correlation coefficients for each organ btw the NSAF and expression level value\n",
    "        ps_list = []\n",
    "        kendall_list = []\n",
    "\n",
    "        for key in proteinsDict.keys():\n",
    "            kendall = proteinsDict[key]['NSAF'].corr(proteinsDict[key][hpa_value], method = 'kendall')\n",
    "            kendall_list.append(kendall)\n",
    "        list_of_corrs = [kendall_list]\n",
    "        names = ['kendall']\n",
    "\n",
    "        for corr, name in zip(list_of_corrs, names):\n",
    "            corr_array = np.asarray(corr)\n",
    "            corr_array = corr_array[np.logical_not(np.isnan(corr_array))]\n",
    "            row.append(corr_array.tolist())\n",
    "            row.append(corr_array.std())\n",
    "                \n",
    "        comp2.loc[len(comp2)] = row"
   ]
  },
  {
   "cell_type": "code",
   "execution_count": 16,
   "metadata": {},
   "outputs": [
    {
     "name": "stdout",
     "output_type": "stream",
     "text": [
      "comparison of antibody and random PexAt\n",
      "comparison of antibody and random fPexAt\n",
      "comparison of antibody and random PexAt_abundant\n",
      "comparison of antibody and random fPexAt_abundant\n",
      "comparison of RNA (nTPM) and random PexAt\n",
      "comparison of RNA (nTPM) and random fPexAt\n",
      "comparison of RNA (nTPM) and random PexAt_abundant\n",
      "comparison of RNA (nTPM) and random fPexAt_abundant\n"
     ]
    },
    {
     "data": {
      "text/plain": [
       "<Figure size 432x288 with 0 Axes>"
      ]
     },
     "metadata": {},
     "output_type": "display_data"
    },
    {
     "data": {
      "text/plain": [
       "<Figure size 432x288 with 0 Axes>"
      ]
     },
     "metadata": {},
     "output_type": "display_data"
    },
    {
     "data": {
      "text/plain": [
       "<Figure size 432x288 with 0 Axes>"
      ]
     },
     "metadata": {},
     "output_type": "display_data"
    },
    {
     "data": {
      "text/plain": [
       "<Figure size 432x288 with 0 Axes>"
      ]
     },
     "metadata": {},
     "output_type": "display_data"
    },
    {
     "data": {
      "text/plain": [
       "<Figure size 432x288 with 0 Axes>"
      ]
     },
     "metadata": {},
     "output_type": "display_data"
    },
    {
     "data": {
      "text/plain": [
       "<Figure size 432x288 with 0 Axes>"
      ]
     },
     "metadata": {},
     "output_type": "display_data"
    },
    {
     "data": {
      "text/plain": [
       "<Figure size 432x288 with 0 Axes>"
      ]
     },
     "metadata": {},
     "output_type": "display_data"
    },
    {
     "data": {
      "text/plain": [
       "<Figure size 432x288 with 0 Axes>"
      ]
     },
     "metadata": {},
     "output_type": "display_data"
    }
   ],
   "source": [
    "hpa_atlases = [abAtlas,ntpm_rnaAtlas]\n",
    "hpa_names=['antibody', 'RNA (nTPM)']\n",
    "hpa_values = ['Level','nTPM']\n",
    "\n",
    "\n",
    "protein_expression_atlases = [ms_atlas, ms_atlas_filter, ms_atlas_no_abundant, ms_atlas_filter_no_abundant]\n",
    "protein_expression_names =  ['random PexAt', 'random fPexAt', 'random PexAt_abundant', 'random fPexAt_abundant']\n",
    "i=0\n",
    "for hpa_atlas, hpa_name, hpa_value in zip(hpa_atlases, hpa_names, hpa_values):\n",
    "    for prot_atlas, prot_name in zip(protein_expression_atlases, protein_expression_names):\n",
    "        i += 1\n",
    "        plt.figure(i)\n",
    "        row = []\n",
    "\n",
    "        print('comparison of {} and {}'.format(hpa_name, prot_name))\n",
    "        row.append(hpa_name+' - '+prot_name)\n",
    "        df = pd.merge(hpa_atlas, prot_atlas, on=['Uniprot_id', 'Organ_id'], how='inner')\n",
    "        df = df[df['NSAF_random'].notna()]\n",
    "        #second comparison on protein level\n",
    "        proteins = df['Uniprot_id'].unique()\n",
    "        row.append('Protein')\n",
    "        proteinsDict = {elem : pd.DataFrame for elem in proteins}\n",
    "        for key in proteinsDict.keys():\n",
    "            proteinsDict[key] = df[:][df['Uniprot_id'] == key]\n",
    "\n",
    "        sc_list = [] #determine pearson correlation coefficients for each organ btw the NSAF_random and expression level value\n",
    "        ps_list = []\n",
    "        kendall_list = []\n",
    "\n",
    "        for key in proteinsDict.keys():\n",
    "            kendall = proteinsDict[key]['NSAF_random'].corr(proteinsDict[key][hpa_value], method = 'kendall')\n",
    "            kendall_list.append(kendall)\n",
    "        list_of_corrs = [kendall_list]\n",
    "        names = ['kendall']\n",
    "\n",
    "        for corr, name in zip(list_of_corrs, names):\n",
    "            corr_array = np.asarray(corr)\n",
    "            corr_array = corr_array[np.logical_not(np.isnan(corr_array))]\n",
    "            row.append(corr_array.tolist())\n",
    "            row.append(corr_array.std())\n",
    "                \n",
    "        comp2.loc[len(comp2)] = row"
   ]
  },
  {
   "cell_type": "code",
   "execution_count": 17,
   "metadata": {},
   "outputs": [
    {
     "data": {
      "text/html": [
       "<div>\n",
       "<style scoped>\n",
       "    .dataframe tbody tr th:only-of-type {\n",
       "        vertical-align: middle;\n",
       "    }\n",
       "\n",
       "    .dataframe tbody tr th {\n",
       "        vertical-align: top;\n",
       "    }\n",
       "\n",
       "    .dataframe thead th {\n",
       "        text-align: right;\n",
       "    }\n",
       "</style>\n",
       "<table border=\"1\" class=\"dataframe\">\n",
       "  <thead>\n",
       "    <tr style=\"text-align: right;\">\n",
       "      <th></th>\n",
       "      <th>comparison</th>\n",
       "      <th>level</th>\n",
       "      <th>kendall (mean)</th>\n",
       "      <th>kendall (stdev)</th>\n",
       "    </tr>\n",
       "  </thead>\n",
       "  <tbody>\n",
       "    <tr>\n",
       "      <th>0</th>\n",
       "      <td>antibody - PexAt</td>\n",
       "      <td>Protein</td>\n",
       "      <td>[-0.09228449566144904, 0.20307912740410933, -0...</td>\n",
       "      <td>0.262258</td>\n",
       "    </tr>\n",
       "    <tr>\n",
       "      <th>1</th>\n",
       "      <td>antibody - fPexAt</td>\n",
       "      <td>Protein</td>\n",
       "      <td>[-0.0543348102875866, 1.0, -1.0, -0.8164965809...</td>\n",
       "      <td>0.519924</td>\n",
       "    </tr>\n",
       "    <tr>\n",
       "      <th>2</th>\n",
       "      <td>antibody - PexAt_abundant</td>\n",
       "      <td>Protein</td>\n",
       "      <td>[-0.09228449566144904, 0.114783854619714, -0.1...</td>\n",
       "      <td>0.261464</td>\n",
       "    </tr>\n",
       "    <tr>\n",
       "      <th>3</th>\n",
       "      <td>antibody - fPexAt_abundant</td>\n",
       "      <td>Protein</td>\n",
       "      <td>[-0.12678122400436873, 1.0, -1.0, -0.816496580...</td>\n",
       "      <td>0.520215</td>\n",
       "    </tr>\n",
       "    <tr>\n",
       "      <th>4</th>\n",
       "      <td>RNA (nTPM) - PexAt</td>\n",
       "      <td>Protein</td>\n",
       "      <td>[-0.13659232596993998, 0.7920361680095124, -0....</td>\n",
       "      <td>0.311158</td>\n",
       "    </tr>\n",
       "    <tr>\n",
       "      <th>5</th>\n",
       "      <td>RNA (nTPM) - fPexAt</td>\n",
       "      <td>Protein</td>\n",
       "      <td>[-1.0, 1.0, -0.5477225575051662, -0.3333333333...</td>\n",
       "      <td>0.537521</td>\n",
       "    </tr>\n",
       "    <tr>\n",
       "      <th>6</th>\n",
       "      <td>RNA (nTPM) - PexAt_abundant</td>\n",
       "      <td>Protein</td>\n",
       "      <td>[-0.13659232596993998, 0.7964445799452979, -0....</td>\n",
       "      <td>0.313486</td>\n",
       "    </tr>\n",
       "    <tr>\n",
       "      <th>7</th>\n",
       "      <td>RNA (nTPM) - fPexAt_abundant</td>\n",
       "      <td>Protein</td>\n",
       "      <td>[-1.0, 1.0, -0.5477225575051662, -0.3333333333...</td>\n",
       "      <td>0.541244</td>\n",
       "    </tr>\n",
       "    <tr>\n",
       "      <th>8</th>\n",
       "      <td>antibody - random PexAt</td>\n",
       "      <td>Protein</td>\n",
       "      <td>[-0.04969165151001102, -0.29137440018850475, -...</td>\n",
       "      <td>0.251605</td>\n",
       "    </tr>\n",
       "    <tr>\n",
       "      <th>9</th>\n",
       "      <td>antibody - random fPexAt</td>\n",
       "      <td>Protein</td>\n",
       "      <td>[-0.18111603429195533, 1.0, 1.0, 0.81649658092...</td>\n",
       "      <td>0.513040</td>\n",
       "    </tr>\n",
       "    <tr>\n",
       "      <th>10</th>\n",
       "      <td>antibody - random PexAt_abundant</td>\n",
       "      <td>Protein</td>\n",
       "      <td>[-0.2484582575500551, 0.5032830548710536, -0.0...</td>\n",
       "      <td>0.254000</td>\n",
       "    </tr>\n",
       "    <tr>\n",
       "      <th>11</th>\n",
       "      <td>antibody - random fPexAt_abundant</td>\n",
       "      <td>Protein</td>\n",
       "      <td>[-0.09055801714597767, -1.0, -1.0, -0.81649658...</td>\n",
       "      <td>0.522940</td>\n",
       "    </tr>\n",
       "    <tr>\n",
       "      <th>12</th>\n",
       "      <td>RNA (nTPM) - random PexAt</td>\n",
       "      <td>Protein</td>\n",
       "      <td>[-0.19308585107983747, -0.817206229307224, 0.0...</td>\n",
       "      <td>0.302170</td>\n",
       "    </tr>\n",
       "    <tr>\n",
       "      <th>13</th>\n",
       "      <td>RNA (nTPM) - random fPexAt</td>\n",
       "      <td>Protein</td>\n",
       "      <td>[-1.0, -1.0, -0.18257418583505539, -1.0, -1.0,...</td>\n",
       "      <td>0.560981</td>\n",
       "    </tr>\n",
       "    <tr>\n",
       "      <th>14</th>\n",
       "      <td>RNA (nTPM) - random PexAt_abundant</td>\n",
       "      <td>Protein</td>\n",
       "      <td>[-0.31031654637831024, -0.626596793214472, 0.1...</td>\n",
       "      <td>0.304742</td>\n",
       "    </tr>\n",
       "    <tr>\n",
       "      <th>15</th>\n",
       "      <td>RNA (nTPM) - random fPexAt_abundant</td>\n",
       "      <td>Protein</td>\n",
       "      <td>[1.0, 1.0, -0.18257418583505539, 0.33333333333...</td>\n",
       "      <td>0.559705</td>\n",
       "    </tr>\n",
       "  </tbody>\n",
       "</table>\n",
       "</div>"
      ],
      "text/plain": [
       "                             comparison    level  \\\n",
       "0                      antibody - PexAt  Protein   \n",
       "1                     antibody - fPexAt  Protein   \n",
       "2             antibody - PexAt_abundant  Protein   \n",
       "3            antibody - fPexAt_abundant  Protein   \n",
       "4                    RNA (nTPM) - PexAt  Protein   \n",
       "5                   RNA (nTPM) - fPexAt  Protein   \n",
       "6           RNA (nTPM) - PexAt_abundant  Protein   \n",
       "7          RNA (nTPM) - fPexAt_abundant  Protein   \n",
       "8               antibody - random PexAt  Protein   \n",
       "9              antibody - random fPexAt  Protein   \n",
       "10     antibody - random PexAt_abundant  Protein   \n",
       "11    antibody - random fPexAt_abundant  Protein   \n",
       "12            RNA (nTPM) - random PexAt  Protein   \n",
       "13           RNA (nTPM) - random fPexAt  Protein   \n",
       "14   RNA (nTPM) - random PexAt_abundant  Protein   \n",
       "15  RNA (nTPM) - random fPexAt_abundant  Protein   \n",
       "\n",
       "                                       kendall (mean)  kendall (stdev)  \n",
       "0   [-0.09228449566144904, 0.20307912740410933, -0...         0.262258  \n",
       "1   [-0.0543348102875866, 1.0, -1.0, -0.8164965809...         0.519924  \n",
       "2   [-0.09228449566144904, 0.114783854619714, -0.1...         0.261464  \n",
       "3   [-0.12678122400436873, 1.0, -1.0, -0.816496580...         0.520215  \n",
       "4   [-0.13659232596993998, 0.7920361680095124, -0....         0.311158  \n",
       "5   [-1.0, 1.0, -0.5477225575051662, -0.3333333333...         0.537521  \n",
       "6   [-0.13659232596993998, 0.7964445799452979, -0....         0.313486  \n",
       "7   [-1.0, 1.0, -0.5477225575051662, -0.3333333333...         0.541244  \n",
       "8   [-0.04969165151001102, -0.29137440018850475, -...         0.251605  \n",
       "9   [-0.18111603429195533, 1.0, 1.0, 0.81649658092...         0.513040  \n",
       "10  [-0.2484582575500551, 0.5032830548710536, -0.0...         0.254000  \n",
       "11  [-0.09055801714597767, -1.0, -1.0, -0.81649658...         0.522940  \n",
       "12  [-0.19308585107983747, -0.817206229307224, 0.0...         0.302170  \n",
       "13  [-1.0, -1.0, -0.18257418583505539, -1.0, -1.0,...         0.560981  \n",
       "14  [-0.31031654637831024, -0.626596793214472, 0.1...         0.304742  \n",
       "15  [1.0, 1.0, -0.18257418583505539, 0.33333333333...         0.559705  "
      ]
     },
     "execution_count": 17,
     "metadata": {},
     "output_type": "execute_result"
    }
   ],
   "source": [
    "comp2"
   ]
  },
  {
   "cell_type": "code",
   "execution_count": 19,
   "metadata": {},
   "outputs": [
    {
     "data": {
      "text/plain": [
       "[Text(0, 0, 'antibody - PexAt'),\n",
       " Text(0, 0, 'antibody - fPexAt'),\n",
       " Text(0, 0, 'antibody - PexAt_abundant'),\n",
       " Text(0, 0, 'antibody - fPexAt_abundant'),\n",
       " Text(0, 0, 'RNA (nTPM) - PexAt'),\n",
       " Text(0, 0, 'RNA (nTPM) - fPexAt'),\n",
       " Text(0, 0, 'RNA (nTPM) - PexAt_abundant'),\n",
       " Text(0, 0, 'RNA (nTPM) - fPexAt_abundant'),\n",
       " Text(0, 0, 'antibody - random PexAt'),\n",
       " Text(0, 0, 'antibody - random fPexAt'),\n",
       " Text(0, 0, 'antibody - random PexAt_abundant'),\n",
       " Text(0, 0, 'antibody - random fPexAt_abundant'),\n",
       " Text(0, 0, 'RNA (nTPM) - random PexAt'),\n",
       " Text(0, 0, 'RNA (nTPM) - random fPexAt'),\n",
       " Text(0, 0, 'RNA (nTPM) - random PexAt_abundant'),\n",
       " Text(0, 0, 'RNA (nTPM) - random fPexAt_abundant')]"
      ]
     },
     "execution_count": 19,
     "metadata": {},
     "output_type": "execute_result"
    },
    {
     "data": {
      "image/png": "[encoded data removed]",
      "text/plain": [
       "<Figure size 1152x432 with 1 Axes>"
      ]
     },
     "metadata": {},
     "output_type": "display_data"
    }
   ],
   "source": [
    "all_arrays = comp2['kendall (mean)'].to_list()\n",
    "comparisons = comp2['comparison'].to_list()\n",
    "sns.set_theme(style='whitegrid')\n",
    "sns.set(font_scale=1.25)\n",
    "fig, ax = plt.subplots(figsize=(16,6))\n",
    "ax = sns.boxplot(ax=ax, data=all_arrays)\n",
    "ax.set(ylabel='Kendall correlation coefficient distribution')\n",
    "ax.set_xticklabels(comparisons, rotation=90)\n",
    "#ax.set_title(\"Kendall correlation coefficient distribution over proteins comparing HPA and MS protein expression\")"
   ]
  }
 ],
 "metadata": {
  "kernelspec": {
   "display_name": "Python 3.6.13 ('tissuespecific')",
   "language": "python",
   "name": "python3"
  },
  "language_info": {
   "codemirror_mode": {
    "name": "ipython",
    "version": 3
   },
   "file_extension": ".py",
   "mimetype": "text/x-python",
   "name": "python",
   "nbconvert_exporter": "python",
   "pygments_lexer": "ipython3",
   "version": "3.6.13"
  },
  "orig_nbformat": 4,
  "vscode": {
   "interpreter": {
    "hash": "59057a64ae204f2fdb51e9e1b433726989fd2ce2c53f4ab90fe5cecdfcc3bed6"
   }
  }
 },
 "nbformat": 4,
 "nbformat_minor": 2
}
